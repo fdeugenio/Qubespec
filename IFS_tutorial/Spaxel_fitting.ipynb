{
 "cells": [
  {
   "cell_type": "code",
   "execution_count": 1,
   "metadata": {},
   "outputs": [
    {
     "name": "stdout",
     "output_type": "stream",
     "text": [
      "True\n"
     ]
    }
   ],
   "source": [
    "#importing modules\n",
    "import numpy as np\n",
    "import matplotlib.pyplot as plt; plt.ioff()\n",
    "\n",
    "nan= float('nan')\n",
    "pi= np.pi\n",
    "e= np.e\n",
    "\n",
    "c= 3e8\n",
    "h= 6.62*10**-34\n",
    "k= 1.38*10**-23\n",
    "\n",
    "%load_ext autoreload\n",
    "%autoreload 2\n",
    "\n",
    "import QubeSpec as IFU\n",
    "import QubeSpec.Plotting as emplot\n",
    "import QubeSpec.Fitting as emfit\n",
    "import yaml\n",
    "\n"
   ]
  },
  {
   "cell_type": "markdown",
   "metadata": {},
   "source": [
    "# QubeSpec setup file - defining it again"
   ]
  },
  {
   "cell_type": "code",
   "execution_count": 4,
   "metadata": {},
   "outputs": [],
   "source": [
    "# Lets define additional info\n",
    "PATH='/Users/jansen/My Drive/Astro/'\n",
    "\n",
    "QubeSpec_setup = {}\n",
    "######################\n",
    "# Basic Properties\n",
    "QubeSpec_setup['z'] = 6.851 # Redshift of the object \n",
    "QubeSpec_setup['ID'] = 'COS30_R2700' # Name of the object\n",
    "QubeSpec_setup['instrument'] = 'NIRSPEC_IFU_fl' # Name of the instrument - KMOS, SINFONI, NIRSPEC_IFU (when original units Fnu from pipeline), NIRSPEC_IFU_fl (for GTO pipeline Flambda)\n",
    "QubeSpec_setup['band'] = 'R2700' # Or PRISM, doesnt matter for JWST - For KMOS and SINFONI it should H or K or HK or YJ or Hsin, Ksin for SINFONI\n",
    "QubeSpec_setup['save_path'] = PATH+'COS30_IFS/Saves/' # Where to save all the info. \n",
    "QubeSpec_setup['file'] = PATH+'COS30_IFS/Data/COS30-COS-6.80-S_jw1217_o007_ff_px0.05_drizzle_ODfde95.0_VSC_MRC_MSA_EMSA_m2ff_xyspikes96_CTX1068.pmap_v1.8.2_g395h-f290lp_cgs_s3d.fits'# Path to the Data Cube\n",
    "QubeSpec_setup['norm'] = 1e-15 # Normalization to make the integrated spectrum around 0.5-8\n",
    "\n",
    "#####################\n",
    "# PSF Matching info\n",
    "QubeSpec_setup['PSF_match'] = True\n",
    "QubeSpec_setup['PSF_match_wv'] = 5.2\n",
    "\n",
    "#####################\n",
    "# Masking Channels\n",
    "QubeSpec_setup['mask_threshold'] = 6 # multiple of the median error to mask\n",
    "QubeSpec_setup['mask_channels'] = []  # any particular channels to mask - with JWST not necessarily \n",
    "\n",
    "#####################\n",
    "# Background Subtraction\n",
    "QubeSpec_setup['Source_mask'] = PATH+'COS30_IFS/Data/R2700_source.fits' # path to find the source mask to mask the source during background subtraction - Can be None but then you have to supply wavelength range around some emission line to construct a line map and let sextractor create the mask\n",
    "QubeSpec_setup['line_map_wavelength'] = [3.92,3.94] # Wavelength range used to create a line map for source detection - only used if 'Source_mask' is None\n",
    "\n",
    "#####################\n",
    "# Extracting spectrum \n",
    "QubeSpec_setup['Object_center'] = [59,50] # X,Y - center of the object \n",
    "QubeSpec_setup['Aperture_extraction'] = 0.2 # radius of the aperture to extract the the 1D spectrum\n",
    "# Error stuff - explained below\n",
    "QubeSpec_setup['err_range']=[3.95,4.05, 5,5.1] # err ranges for renormalising the error extension\n",
    "QubeSpec_setup['err_boundary'] = 4.1 # where to switch - location of the detector gap\n",
    "\n",
    "#####################\n",
    "# Fitting Spaxel by Spaxel\n",
    "QubeSpec_setup['Spaxel_mask'] = PATH+'COS30_IFS/Data/R2700_source_mask.fits' # which spaxel to fit in spaxel-by-spaxel fitting - source mask and Spaxel mask can be the same\n",
    "QubeSpec_setup['ncpu'] = 8 # number of cores to use for \n",
    "QubeSpec_setup['Spaxel_Binning'] = 'Nearest' # What binning option to use  - 'Nearest', 'Single'\n",
    "\n",
    "\n",
    "with open(QubeSpec_setup['save_path']+'QubeSpec_setup.yml', 'w') as outfile:\n",
    "    yaml.dump(QubeSpec_setup, outfile, default_flow_style=False, allow_unicode=True)\n"
   ]
  },
  {
   "cell_type": "code",
   "execution_count": 2,
   "metadata": {},
   "outputs": [],
   "source": [
    "Cube = IFU.Cube()\n",
    "Cube.load('/Users/jansen/Test.txt')"
   ]
  },
  {
   "cell_type": "markdown",
   "metadata": {},
   "source": [
    "# Preparing for Spaxel-by-spaxel fitting"
   ]
  },
  {
   "cell_type": "code",
   "execution_count": 5,
   "metadata": {},
   "outputs": [
    {
     "data": {
      "image/png": "[encoded data removed]",
      "text/plain": [
       "<Figure size 640x480 with 1 Axes>"
      ]
     },
     "metadata": {},
     "output_type": "display_data"
    }
   ],
   "source": [
    "mask_spaxel = IFU.sp.QFitsview_mask(QubeSpec_setup['Spaxel_mask'])\n",
    "\n",
    "plt.figure()\n",
    "plt.imshow(mask_spaxel, cmap='gray', origin='lower')\n",
    "plt.show()"
   ]
  },
  {
   "cell_type": "markdown",
   "metadata": {},
   "source": [
    "## Unwrapping"
   ]
  },
  {
   "cell_type": "code",
   "execution_count": 6,
   "metadata": {},
   "outputs": [],
   "source": [
    "Unwrapping = False\n",
    "if Unwrapping==True:\n",
    "    Cube.unwrap_cube(instrument='NIRSPEC05',mask_manual=mask_spaxel, \\\n",
    "                     err_range=QubeSpec_setup['err_range'],\\\n",
    "                     boundary=QubeSpec_setup['err_boundary'],\\\n",
    "                     add='',\\\n",
    "                     sp_binning= QubeSpec_setup['Spaxel_Binning']) \n",
    "plt.show()"
   ]
  },
  {
   "cell_type": "code",
   "execution_count": null,
   "metadata": {},
   "outputs": [],
   "source": [
    "def gauss(x, k, mu,FWHM):\n",
    "    sig = FWHM/3e5*mu/2.35482\n",
    "    expo= -((x-mu)**2)/(2*sig*sig)\n",
    "\n",
    "    y= k* e**expo\n",
    "\n",
    "    return y\n",
    "from astropy.modeling.powerlaws import PowerLaw1D\n",
    "\n",
    "def Full_optical(x, z, cont,cont_grad,  Hal_peak, NII_peak, OIIIn_peak, Hbeta_peak, Hgamma_peak, Hdelta_peak, NeIII_peak, OII_peak, OII_rat,OIIIc_peak, HeI_peak,HeII_peak, Nar_fwhm):\n",
    "    # Halpha side of things\n",
    "    Hal_wv = 6564.52*(1+z)/1e4\n",
    "    NII_r = 6585.27*(1+z)/1e4\n",
    "    NII_b = 6549.86*(1+z)/1e4\n",
    "    \n",
    "    OIIIr = 5008.24*(1+z)/1e4\n",
    "    OIIIb = 4960.3*(1+z)/1e4\n",
    "    Hbeta = 4862.6*(1+z)/1e4\n",
    "\n",
    "    Hal_nar = gauss(x, Hal_peak, Hal_wv, Nar_fwhm)\n",
    "    NII_nar_r = gauss(x, NII_peak, NII_r, Nar_fwhm)\n",
    "    NII_nar_b = gauss(x, NII_peak/3, NII_b, Nar_fwhm)\n",
    "    \n",
    "    Hgamma_wv = 4341.647191*(1+z)/1e4\n",
    "    Hdelta_wv = 4102.859855*(1+z)/1e4\n",
    "    \n",
    "    Hgamma_nar = gauss(x, Hgamma_peak, Hgamma_wv, Nar_fwhm)\n",
    "    Hdelta_nar = gauss(x, Hdelta_peak, Hdelta_wv, Nar_fwhm)\n",
    "    \n",
    "    \n",
    "    # [OIII] side of things\n",
    "    OIIIr = 5008.24*(1+z)/1e4\n",
    "    OIIIb = 4960.3*(1+z)/1e4\n",
    "    Hbeta = 4862.6*(1+z)/1e4\n",
    "\n",
    "    OIII_nar = gauss(x, OIIIn_peak, OIIIr, Nar_fwhm) + gauss(x, OIIIn_peak/3, OIIIb, Nar_fwhm)\n",
    "    Hbeta_nar = gauss(x, Hbeta_peak, Hbeta, Nar_fwhm)\n",
    "    \n",
    "    NeIII = gauss(x, NeIII_peak, 3869.68*(1+z)/1e4, Nar_fwhm ) + gauss(x, 0.322*NeIII_peak, 3968.68*(1+z)/1e4, Nar_fwhm)\n",
    "    \n",
    "    OII = gauss(x, OII_peak, 3727.1*(1+z)/1e4, Nar_fwhm )  + gauss(x, OII_rat*OII_peak, 3729.875*(1+z)/1e4, Nar_fwhm) \n",
    "    \n",
    "    OIIIc = gauss(x, OIIIc_peak, 4364.436*(1+z)/1e4, Nar_fwhm )\n",
    "    HeI = gauss(x, HeI_peak, 3889.73*(1+z)/1e4, Nar_fwhm )\n",
    "    HeII = gauss(x, HeII_peak, 4686.0*(1+z)/1e4, Nar_fwhm )\n",
    "\n",
    "    contm = PowerLaw1D.evaluate(x, cont,Hal_wv, alpha=cont_grad)\n",
    "\n",
    "    return contm+Hal_nar+NII_nar_r+NII_nar_b + OIII_nar + Hbeta_nar + Hgamma_nar + Hdelta_nar + NeIII+ OII + OIIIc+ HeI+HeII\n",
    "\n",
    "labels= ['z', 'cont','cont_grad',  'Hal_peak', 'NII_peak', 'OIII_peak', 'Hbeta_peak','Hgamma_peak', 'Hdelta_peak','NeIII_peak','OII_peak','OII_rat','OIIIaur_peak', 'HeI_peak','HeII_peak', 'Nar_fwhm']"
   ]
  },
  {
   "cell_type": "code",
   "execution_count": 7,
   "metadata": {},
   "outputs": [],
   "source": [
    "dvmax = 1000/3e5*(1+Cube.z)\n",
    "dvstd = 200/3e5*(1+Cube.z)\n",
    "priors={'z':[Cube.z,'normal_hat', Cube.z, dvstd, Cube.z-dvmax, Cube.z+dvmax]}\n",
    "\n",
    "priors['cont']=[0.001,'loguniform', -4,1]\n",
    "priors['cont_grad']=[0.1,'normal', 0,0.2]\n",
    "priors['Hal_peak']=[0.1,'loguniform', -4,1]\n",
    "priors['NII_peak']=[0.4,'loguniform', -4,1]\n",
    "priors['Nar_fwhm']=[300,'uniform', 200,900]\n",
    "priors['OIII_peak']=[0.1,'loguniform', -4,1]\n",
    "priors['OI_peak']=[0.01,'loguniform', -4,1]\n",
    "priors['HeI_peak']=[0.01,'loguniform', -4,1]\n",
    "priors['Hbeta_peak']=[0.02,'loguniform', -4,1]\n",
    "priors['Hgamma_peak'] = [0.02,'loguniform',-4,1]\n",
    "priors['Hdelta_peak'] = [0.01,'loguniform',-4,1]\n",
    "priors['NeIII_peak'] = [0.01,'loguniform',-4,1]\n",
    "priors['OII_peak'] = [0.01,'loguniform',-4,1]\n",
    "priors['OII_rat']=[1,'uniform', 0.2,4]\n",
    "priors['OIIIc_peak']=[0.01,'loguniform', -4,1]\n",
    "\n",
    "Spaxel = False\n",
    "if Spaxel==True: \n",
    "    if __name__ == '__main__':\n",
    "        IFU.Spaxel.Spaxel_fitting_general_MCMC_mp(Cube, Full_optical,labels, priors, emfit.logprior_general_scipy, add='', Ncores=QubeSpec_setup['ncpu'])\n"
   ]
  },
  {
   "cell_type": "markdown",
   "metadata": {},
   "source": [
    "## Something didnt fit right? lets refit it. \n",
    "\n",
    "Things are bound to fail. In the next we will quickly fit only few spaxel and replace them in the saved file. "
   ]
  },
  {
   "cell_type": "code",
   "execution_count": null,
   "metadata": {},
   "outputs": [],
   "source": [
    "IFU.Spaxel.Spaxel_fitting_general_toptup(Cube, to_fit = [59,48], fitted_model = Full_optical, labels=labels, priors=priors, logprior= emfit.logprior_general_scipy)\n"
   ]
  },
  {
   "cell_type": "markdown",
   "metadata": {},
   "source": [
    "## Generating the maps"
   ]
  },
  {
   "cell_type": "code",
   "execution_count": null,
   "metadata": {},
   "outputs": [
    {
     "name": "stdout",
     "output_type": "stream",
     "text": [
      "True\n"
     ]
    },
    {
     "name": "stderr",
     "output_type": "stream",
     "text": [
      "100%|██████████| 832/832 [22:24<00:00,  1.62s/it]\n"
     ]
    },
    {
     "name": "stdout",
     "output_type": "stream",
     "text": [
      "Failed fits 0\n"
     ]
    }
   ],
   "source": [
    "info = {'Hal': {'wv':6563,'fwhm':'Nar_fwhm','kin':1}}\n",
    "info['NII'] = {'wv':6583, 'fwhm':'Nar_fwhm','kin':0}\n",
    "info['OIII'] = {'wv':5008, 'fwhm':'Nar_fwhm','kin':1}\n",
    "info['Hbeta'] = {'wv':4861, 'fwhm':'Nar_fwhm','kin':0}\n",
    "info['Hgamma'] = {'wv':4341.647, 'fwhm':'Nar_fwhm','kin':0}\n",
    "info['Hdelta'] = {'wv':4102.859, 'fwhm':'Nar_fwhm','kin':0}\n",
    "info['NeIII'] = {'wv':3869.68, 'fwhm':'Nar_fwhm','kin':0}\n",
    "info['OII'] = {'wv':3727.1, 'fwhm':'Nar_fwhm','kin':0}\n",
    "info['OIIIc'] = {'wv':4363, 'fwhm':'Nar_fwhm','kin':0}\n",
    "info['HeI'] = {'wv':3889, 'fwhm':'Nar_fwhm','kin':0}\n",
    "\n",
    "fmaps = IFU.Maps.Map_creation_general(Cube, info,flux_max=1e-18, SNR_cut=4., fwhmrange=[200,600], velrange=[-200,200], \\\n",
    "                                  modelfce=Full_optical )\n",
    "plt.show()"
   ]
  }
 ],
 "metadata": {
  "kernelspec": {
   "display_name": "base",
   "language": "python",
   "name": "python3"
  },
  "language_info": {
   "codemirror_mode": {
    "name": "ipython",
    "version": 3
   },
   "file_extension": ".py",
   "mimetype": "text/x-python",
   "name": "python",
   "nbconvert_exporter": "python",
   "pygments_lexer": "ipython3",
   "version": "3.11.5"
  }
 },
 "nbformat": 4,
 "nbformat_minor": 2
}
